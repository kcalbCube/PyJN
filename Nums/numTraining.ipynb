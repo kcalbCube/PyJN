{
 "cells": [
  {
   "cell_type": "code",
   "execution_count": 1,
   "metadata": {},
   "outputs": [
    {
     "name": "stderr",
     "output_type": "stream",
     "text": [
      "Using CNTK backend\n"
     ]
    }
   ],
   "source": [
    "import numpy as np\n",
    "from keras.models import Sequential\n",
    "from keras.layers import Dense, Dropout, Flatten, Conv2D, MaxPooling2D\n",
    "from keras.callbacks import EarlyStopping\n",
    "from keras.utils import np_utils\n",
    "import matplotlib.pyplot as plt\n",
    "%matplotlib inline"
   ]
  },
  {
   "cell_type": "code",
   "execution_count": 2,
   "metadata": {},
   "outputs": [],
   "source": [
    "np.random.seed(42)"
   ]
  },
  {
   "cell_type": "code",
   "execution_count": 3,
   "metadata": {},
   "outputs": [
    {
     "name": "stdout",
     "output_type": "stream",
     "text": [
      "Total 140000 samples\n"
     ]
    }
   ],
   "source": [
    "file = open('DATA/Stored/storedData_MNIST_140000.npz', 'rb')\n",
    "DATA = np.load(file)\n",
    "x_train, y_train = DATA['x_train'], DATA['y_train']\n",
    "file.close()\n",
    "print('Total {} samples'.format(len(x_train)))"
   ]
  },
  {
   "cell_type": "code",
   "execution_count": 4,
   "metadata": {},
   "outputs": [],
   "source": [
    "# Преобразование размерности изображений\n",
    "x_train = x_train.reshape(x_train.shape[0], 28, 28, 1)\n",
    "input_shape = (28, 28, 1)\n",
    "\n",
    "# Нормализуция данных\n",
    "x_train = x_train.astype('float32')\n",
    "x_train /= 255\n",
    "y_train = np_utils.to_categorical(y_train, 10)"
   ]
  },
  {
   "cell_type": "code",
   "execution_count": 5,
   "metadata": {},
   "outputs": [
    {
     "name": "stdout",
     "output_type": "stream",
     "text": [
      "133000 train samples\n",
      "7000 validation samples\n"
     ]
    }
   ],
   "source": [
    "# Разделение выборки на обучающую и валидационную\n",
    "valSplit = 0.05\n",
    "maxSplit = int(len(x_train) // (1/valSplit))\n",
    "valXArr = np.random.choice(len(x_train), maxSplit, replace=False)\n",
    "\n",
    "x_val = np.array([x_train[i] for i in valXArr])\n",
    "y_val = np.array([y_train[i] for i in valXArr])\n",
    "x_train = np.array([x_train[i] for i in range(len(x_train)) if i not in valXArr])\n",
    "y_train = np.array([y_train[i] for i in range(len(y_train)) if i not in valXArr])\n",
    "\n",
    "print('{} train samples\\n{} validation samples'.format(len(x_train), len(x_val)))"
   ]
  },
  {
   "cell_type": "code",
   "execution_count": 6,
   "metadata": {},
   "outputs": [
    {
     "name": "stdout",
     "output_type": "stream",
     "text": [
      "_________________________________________________________________\n",
      "Layer (type)                 Output Shape              Param #   \n",
      "=================================================================\n",
      "conv2d_1 (Conv2D)            (None, 24, 24, 75)        1950      \n",
      "_________________________________________________________________\n",
      "max_pooling2d_1 (MaxPooling2 (None, 12, 12, 75)        0         \n",
      "_________________________________________________________________\n",
      "dropout_1 (Dropout)          (None, 12, 12, 75)        0         \n",
      "_________________________________________________________________\n",
      "conv2d_2 (Conv2D)            (None, 8, 8, 100)         187600    \n",
      "_________________________________________________________________\n",
      "max_pooling2d_2 (MaxPooling2 (None, 4, 4, 100)         0         \n",
      "_________________________________________________________________\n",
      "dropout_2 (Dropout)          (None, 4, 4, 100)         0         \n",
      "_________________________________________________________________\n",
      "flatten_1 (Flatten)          (None, 1600)              0         \n",
      "_________________________________________________________________\n",
      "dense_1 (Dense)              (None, 500)               800500    \n",
      "_________________________________________________________________\n",
      "dropout_3 (Dropout)          (None, 500)               0         \n",
      "_________________________________________________________________\n",
      "dense_2 (Dense)              (None, 10)                5010      \n",
      "=================================================================\n",
      "Total params: 995,060\n",
      "Trainable params: 995,060\n",
      "Non-trainable params: 0\n",
      "_________________________________________________________________\n",
      "None\n"
     ]
    }
   ],
   "source": [
    "model = Sequential()\n",
    "\n",
    "model.add(Conv2D(75, kernel_size=(5, 5), activation='relu', input_shape=input_shape))\n",
    "model.add(MaxPooling2D(pool_size=(2, 2)))\n",
    "model.add(Dropout(0.2))\n",
    "\n",
    "model.add(Conv2D(100, (5, 5), activation='relu'))\n",
    "model.add(MaxPooling2D(pool_size=(2, 2)))\n",
    "model.add(Dropout(0.2))\n",
    "\n",
    "model.add(Flatten())\n",
    "model.add(Dense(500, activation='relu'))\n",
    "model.add(Dropout(0.5))\n",
    "\n",
    "model.add(Dense(10, activation='softmax'))\n",
    "\n",
    "model.compile(loss = \"categorical_crossentropy\", optimizer = \"SGD\", metrics = [\"accuracy\"])\n",
    "print(model.summary())"
   ]
  },
  {
   "cell_type": "code",
   "execution_count": 7,
   "metadata": {},
   "outputs": [],
   "source": [
    "early_stopping_callback = EarlyStopping(monitor='val_acc', patience=5)"
   ]
  },
  {
   "cell_type": "code",
   "execution_count": 8,
   "metadata": {
    "scrolled": false
   },
   "outputs": [
    {
     "name": "stdout",
     "output_type": "stream",
     "text": [
      "Train on 133000 samples, validate on 7000 samples\n",
      "Epoch 1/100\n",
      " - 157s - loss: 1.9716 - acc: 0.3289 - val_loss: 1.3430 - val_acc: 0.5961\n",
      "Epoch 2/100\n",
      " - 164s - loss: 1.2328 - acc: 0.6042 - val_loss: 0.8472 - val_acc: 0.7404\n",
      "Epoch 3/100\n",
      " - 167s - loss: 0.8615 - acc: 0.7234 - val_loss: 0.5911 - val_acc: 0.8237\n",
      "Epoch 4/100\n",
      " - 166s - loss: 0.6659 - acc: 0.7878 - val_loss: 0.4601 - val_acc: 0.8661\n",
      "Epoch 5/100\n",
      " - 166s - loss: 0.5527 - acc: 0.8251 - val_loss: 0.3877 - val_acc: 0.8851\n",
      "Epoch 6/100\n",
      " - 167s - loss: 0.4814 - acc: 0.8482 - val_loss: 0.3412 - val_acc: 0.8999\n",
      "Epoch 7/100\n",
      " - 164s - loss: 0.4295 - acc: 0.8639 - val_loss: 0.3072 - val_acc: 0.9100\n",
      "Epoch 8/100\n",
      " - 159s - loss: 0.3925 - acc: 0.8772 - val_loss: 0.2804 - val_acc: 0.9146\n",
      "Epoch 9/100\n",
      " - 156s - loss: 0.3618 - acc: 0.8872 - val_loss: 0.2593 - val_acc: 0.9230\n",
      "Epoch 10/100\n",
      " - 157s - loss: 0.3360 - acc: 0.8955 - val_loss: 0.2446 - val_acc: 0.9253\n",
      "Epoch 11/100\n",
      " - 157s - loss: 0.3154 - acc: 0.9020 - val_loss: 0.2296 - val_acc: 0.9290\n",
      "Epoch 12/100\n",
      " - 165s - loss: 0.2992 - acc: 0.9073 - val_loss: 0.2180 - val_acc: 0.9337\n",
      "Epoch 13/100\n",
      " - 168s - loss: 0.2828 - acc: 0.9119 - val_loss: 0.2065 - val_acc: 0.9376\n",
      "Epoch 14/100\n",
      " - 168s - loss: 0.2717 - acc: 0.9157 - val_loss: 0.1980 - val_acc: 0.9400\n",
      "Epoch 15/100\n",
      " - 163s - loss: 0.2579 - acc: 0.9203 - val_loss: 0.1917 - val_acc: 0.9419\n",
      "Epoch 16/100\n",
      " - 167s - loss: 0.2465 - acc: 0.9236 - val_loss: 0.1839 - val_acc: 0.9443\n",
      "Epoch 17/100\n",
      " - 160s - loss: 0.2373 - acc: 0.9265 - val_loss: 0.1747 - val_acc: 0.9454\n",
      "Epoch 18/100\n",
      " - 160s - loss: 0.2283 - acc: 0.9298 - val_loss: 0.1699 - val_acc: 0.9476\n",
      "Epoch 19/100\n",
      " - 159s - loss: 0.2212 - acc: 0.9311 - val_loss: 0.1640 - val_acc: 0.9496\n",
      "Epoch 20/100\n",
      " - 160s - loss: 0.2139 - acc: 0.9337 - val_loss: 0.1586 - val_acc: 0.9503\n",
      "Epoch 21/100\n",
      " - 160s - loss: 0.2086 - acc: 0.9359 - val_loss: 0.1567 - val_acc: 0.9520\n",
      "Epoch 22/100\n",
      " - 159s - loss: 0.2006 - acc: 0.9379 - val_loss: 0.1517 - val_acc: 0.9536\n",
      "Epoch 23/100\n",
      " - 161s - loss: 0.1976 - acc: 0.9392 - val_loss: 0.1468 - val_acc: 0.9533\n",
      "Epoch 24/100\n",
      " - 164s - loss: 0.1919 - acc: 0.9410 - val_loss: 0.1436 - val_acc: 0.9554\n",
      "Epoch 25/100\n",
      " - 169s - loss: 0.1853 - acc: 0.9434 - val_loss: 0.1395 - val_acc: 0.9570\n",
      "Epoch 26/100\n",
      " - 183s - loss: 0.1806 - acc: 0.9442 - val_loss: 0.1361 - val_acc: 0.9577\n",
      "Epoch 27/100\n",
      " - 162s - loss: 0.1749 - acc: 0.9457 - val_loss: 0.1356 - val_acc: 0.9581\n",
      "Epoch 28/100\n",
      " - 161s - loss: 0.1725 - acc: 0.9465 - val_loss: 0.1294 - val_acc: 0.9580\n",
      "Epoch 29/100\n",
      " - 164s - loss: 0.1695 - acc: 0.9480 - val_loss: 0.1266 - val_acc: 0.9597\n",
      "Epoch 30/100\n",
      " - 163s - loss: 0.1640 - acc: 0.9493 - val_loss: 0.1341 - val_acc: 0.9587\n",
      "Epoch 31/100\n",
      " - 161s - loss: 0.1628 - acc: 0.9495 - val_loss: 0.1237 - val_acc: 0.9610\n",
      "Epoch 32/100\n",
      " - 161s - loss: 0.1577 - acc: 0.9512 - val_loss: 0.1197 - val_acc: 0.9620\n",
      "Epoch 33/100\n",
      " - 161s - loss: 0.1542 - acc: 0.9523 - val_loss: 0.1178 - val_acc: 0.9620\n",
      "Epoch 34/100\n",
      " - 161s - loss: 0.1507 - acc: 0.9534 - val_loss: 0.1147 - val_acc: 0.9630\n",
      "Epoch 35/100\n",
      " - 161s - loss: 0.1486 - acc: 0.9547 - val_loss: 0.1116 - val_acc: 0.9649\n",
      "Epoch 36/100\n",
      " - 164s - loss: 0.1457 - acc: 0.9542 - val_loss: 0.1117 - val_acc: 0.9643\n",
      "Epoch 37/100\n",
      " - 160s - loss: 0.1433 - acc: 0.9555 - val_loss: 0.1112 - val_acc: 0.9634\n",
      "Epoch 38/100\n",
      " - 161s - loss: 0.1412 - acc: 0.9563 - val_loss: 0.1094 - val_acc: 0.9653\n",
      "Epoch 39/100\n",
      " - 161s - loss: 0.1384 - acc: 0.9571 - val_loss: 0.1070 - val_acc: 0.9657\n",
      "Epoch 40/100\n",
      " - 160s - loss: 0.1351 - acc: 0.9582 - val_loss: 0.1051 - val_acc: 0.9663\n",
      "Epoch 41/100\n",
      " - 160s - loss: 0.1328 - acc: 0.9589 - val_loss: 0.1019 - val_acc: 0.9671\n",
      "Epoch 42/100\n",
      " - 160s - loss: 0.1314 - acc: 0.9587 - val_loss: 0.1021 - val_acc: 0.9671\n",
      "Epoch 43/100\n",
      " - 160s - loss: 0.1313 - acc: 0.9598 - val_loss: 0.1009 - val_acc: 0.9690\n",
      "Epoch 44/100\n",
      " - 160s - loss: 0.1298 - acc: 0.9593 - val_loss: 0.0978 - val_acc: 0.9681\n",
      "Epoch 45/100\n",
      " - 160s - loss: 0.1268 - acc: 0.9610 - val_loss: 0.0981 - val_acc: 0.9677\n",
      "Epoch 46/100\n",
      " - 160s - loss: 0.1251 - acc: 0.9612 - val_loss: 0.0945 - val_acc: 0.9689\n",
      "Epoch 47/100\n",
      " - 160s - loss: 0.1236 - acc: 0.9618 - val_loss: 0.0939 - val_acc: 0.9701\n",
      "Epoch 48/100\n",
      " - 160s - loss: 0.1214 - acc: 0.9625 - val_loss: 0.0930 - val_acc: 0.9706\n",
      "Epoch 49/100\n",
      " - 159s - loss: 0.1187 - acc: 0.9632 - val_loss: 0.0912 - val_acc: 0.9701\n",
      "Epoch 50/100\n",
      " - 160s - loss: 0.1180 - acc: 0.9633 - val_loss: 0.0899 - val_acc: 0.9710\n",
      "Epoch 51/100\n",
      " - 161s - loss: 0.1148 - acc: 0.9641 - val_loss: 0.0893 - val_acc: 0.9713\n",
      "Epoch 52/100\n",
      " - 156s - loss: 0.1148 - acc: 0.9644 - val_loss: 0.0884 - val_acc: 0.9724\n",
      "Epoch 53/100\n",
      " - 158s - loss: 0.1135 - acc: 0.9651 - val_loss: 0.0865 - val_acc: 0.9727\n",
      "Epoch 54/100\n",
      " - 163s - loss: 0.1110 - acc: 0.9650 - val_loss: 0.0886 - val_acc: 0.9720\n",
      "Epoch 55/100\n",
      " - 163s - loss: 0.1088 - acc: 0.9662 - val_loss: 0.0850 - val_acc: 0.9733\n",
      "Epoch 56/100\n",
      " - 164s - loss: 0.1090 - acc: 0.9664 - val_loss: 0.0842 - val_acc: 0.9724\n",
      "Epoch 57/100\n",
      " - 165s - loss: 0.1078 - acc: 0.9659 - val_loss: 0.0856 - val_acc: 0.9721\n",
      "Epoch 58/100\n",
      " - 164s - loss: 0.1064 - acc: 0.9667 - val_loss: 0.0824 - val_acc: 0.9731\n",
      "Epoch 59/100\n",
      " - 159s - loss: 0.1059 - acc: 0.9669 - val_loss: 0.0810 - val_acc: 0.9736\n",
      "Epoch 60/100\n",
      " - 160s - loss: 0.1018 - acc: 0.9687 - val_loss: 0.0792 - val_acc: 0.9746\n",
      "Epoch 61/100\n",
      " - 159s - loss: 0.1023 - acc: 0.9680 - val_loss: 0.0791 - val_acc: 0.9741\n",
      "Epoch 62/100\n",
      " - 159s - loss: 0.1023 - acc: 0.9685 - val_loss: 0.0797 - val_acc: 0.9744\n",
      "Epoch 63/100\n",
      " - 163s - loss: 0.1000 - acc: 0.9690 - val_loss: 0.0777 - val_acc: 0.9754\n",
      "Epoch 64/100\n",
      " - 159s - loss: 0.1003 - acc: 0.9686 - val_loss: 0.0772 - val_acc: 0.9756\n",
      "Epoch 65/100\n",
      " - 158s - loss: 0.0969 - acc: 0.9695 - val_loss: 0.0774 - val_acc: 0.9754\n",
      "Epoch 66/100\n",
      " - 158s - loss: 0.0967 - acc: 0.9696 - val_loss: 0.0760 - val_acc: 0.9756\n",
      "Epoch 67/100\n",
      " - 158s - loss: 0.0958 - acc: 0.9701 - val_loss: 0.0746 - val_acc: 0.9760\n",
      "Epoch 68/100\n",
      " - 159s - loss: 0.0945 - acc: 0.9707 - val_loss: 0.0751 - val_acc: 0.9759\n",
      "Epoch 69/100\n",
      " - 158s - loss: 0.0946 - acc: 0.9702 - val_loss: 0.0749 - val_acc: 0.9756\n",
      "Epoch 70/100\n",
      " - 208s - loss: 0.0932 - acc: 0.9709 - val_loss: 0.0738 - val_acc: 0.9763\n",
      "Epoch 71/100\n",
      " - 158s - loss: 0.0932 - acc: 0.9708 - val_loss: 0.0733 - val_acc: 0.9763\n",
      "Epoch 72/100\n",
      " - 158s - loss: 0.0921 - acc: 0.9717 - val_loss: 0.0722 - val_acc: 0.9764\n",
      "Epoch 73/100\n",
      " - 157s - loss: 0.0911 - acc: 0.9716 - val_loss: 0.0721 - val_acc: 0.9764\n",
      "Epoch 74/100\n",
      " - 156s - loss: 0.0902 - acc: 0.9724 - val_loss: 0.0708 - val_acc: 0.9777\n",
      "Epoch 75/100\n",
      " - 158s - loss: 0.0893 - acc: 0.9726 - val_loss: 0.0719 - val_acc: 0.9771\n",
      "Epoch 76/100\n",
      " - 159s - loss: 0.0894 - acc: 0.9718 - val_loss: 0.0683 - val_acc: 0.9793\n",
      "Epoch 77/100\n",
      " - 163s - loss: 0.0882 - acc: 0.9725 - val_loss: 0.0698 - val_acc: 0.9774\n",
      "Epoch 78/100\n",
      " - 158s - loss: 0.0872 - acc: 0.9727 - val_loss: 0.0681 - val_acc: 0.9787\n",
      "Epoch 79/100\n",
      " - 158s - loss: 0.0851 - acc: 0.9732 - val_loss: 0.0685 - val_acc: 0.9783\n",
      "Epoch 80/100\n",
      " - 159s - loss: 0.0833 - acc: 0.9742 - val_loss: 0.0683 - val_acc: 0.9793\n",
      "Epoch 81/100\n",
      " - 158s - loss: 0.0851 - acc: 0.9735 - val_loss: 0.0698 - val_acc: 0.9773\n"
     ]
    }
   ],
   "source": [
    "history = model.fit(x_train, y_train,\n",
    "                    batch_size = 256,\n",
    "                    epochs = 100,\n",
    "                    verbose = 2,\n",
    "                    validation_data = (x_val, y_val),\n",
    "                    callbacks=[early_stopping_callback])"
   ]
  },
  {
   "cell_type": "code",
   "execution_count": 10,
   "metadata": {},
   "outputs": [
    {
     "name": "stdout",
     "output_type": "stream",
     "text": [
      "Обучение остановлено на 80 эпохе\n",
      "Точность - 0.9772857142857143\n"
     ]
    },
    {
     "data": {
      "image/png": "[encoded data removed]",
      "text/plain": [
       "<Figure size 432x288 with 1 Axes>"
      ]
     },
     "metadata": {
      "needs_background": "light"
     },
     "output_type": "display_data"
    }
   ],
   "source": [
    "if (early_stopping_callback.stopped_epoch != 0):\n",
    "    print(\"Обучение остановлено на\", early_stopping_callback.stopped_epoch,\"эпохе\")\n",
    "print(\"Точность -\", model.evaluate(x_val, y_val, verbose = 0)[1])\n",
    "\n",
    "plt.plot(history.history['acc'], label='Доля верных ответов на обучающем наборе')\n",
    "plt.plot(history.history['val_acc'], label='Доля верных ответов на проверочном наборе')\n",
    "plt.xlabel('Эпоха обучения')\n",
    "plt.ylabel('Доля верных ответов')\n",
    "plt.legend()\n",
    "plt.show()"
   ]
  },
  {
   "cell_type": "code",
   "execution_count": 11,
   "metadata": {},
   "outputs": [],
   "source": [
    "# Сохраняем модель\n",
    "model_json = model.to_json()\n",
    "json_file = open(\"Models/mnist_model.json\", \"w\")\n",
    "json_file.write(model_json)\n",
    "json_file.close()\n",
    "model.save_weights(\"Models/mnist_model.h5\")"
   ]
  }
 ],
 "metadata": {
  "kernelspec": {
   "display_name": "Python 3",
   "language": "python",
   "name": "python3"
  },
  "language_info": {
   "codemirror_mode": {
    "name": "ipython",
    "version": 3
   },
   "file_extension": ".py",
   "mimetype": "text/x-python",
   "name": "python",
   "nbconvert_exporter": "python",
   "pygments_lexer": "ipython3",
   "version": "3.6.6"
  }
 },
 "nbformat": 4,
 "nbformat_minor": 2
}
